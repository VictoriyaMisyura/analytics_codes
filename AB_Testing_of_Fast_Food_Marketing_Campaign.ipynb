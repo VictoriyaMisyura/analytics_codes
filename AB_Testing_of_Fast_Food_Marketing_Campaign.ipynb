{
 "cells": [
  {
   "cell_type": "code",
   "execution_count": 314,
   "id": "bdc298d3",
   "metadata": {},
   "outputs": [],
   "source": [
    "import numpy as np\n",
    "import pandas as pd\n",
    "from scipy import stats\n",
    "import matplotlib.pyplot as plt\n",
    "import seaborn as sns\n",
    "from statsmodels.stats.multicomp import pairwise_tukeyhsd\n",
    "from statsmodels.formula.api import ols\n",
    "from statsmodels.stats.anova import anova_lm"
   ]
  },
  {
   "cell_type": "code",
   "execution_count": 315,
   "id": "0ced1a54",
   "metadata": {},
   "outputs": [],
   "source": [
    "df = pd.read_csv('WA_Marketing-Campaign.csv')"
   ]
  },
  {
   "cell_type": "code",
   "execution_count": 357,
   "id": "3cee3f96",
   "metadata": {},
   "outputs": [
    {
     "name": "stdout",
     "output_type": "stream",
     "text": [
      "<class 'pandas.core.frame.DataFrame'>\n",
      "RangeIndex: 548 entries, 0 to 547\n",
      "Data columns (total 7 columns):\n",
      " #   Column            Non-Null Count  Dtype  \n",
      "---  ------            --------------  -----  \n",
      " 0   MarketID          548 non-null    int64  \n",
      " 1   MarketSize        548 non-null    object \n",
      " 2   LocationID        548 non-null    int64  \n",
      " 3   AgeOfStore        548 non-null    int64  \n",
      " 4   Promotion         548 non-null    int64  \n",
      " 5   week              548 non-null    int64  \n",
      " 6   SalesInThousands  548 non-null    float64\n",
      "dtypes: float64(1), int64(5), object(1)\n",
      "memory usage: 30.1+ KB\n"
     ]
    }
   ],
   "source": [
    "df.info()"
   ]
  },
  {
   "cell_type": "code",
   "execution_count": 316,
   "id": "8d429a3f",
   "metadata": {},
   "outputs": [
    {
     "data": {
      "text/html": [
       "<div>\n",
       "<style scoped>\n",
       "    .dataframe tbody tr th:only-of-type {\n",
       "        vertical-align: middle;\n",
       "    }\n",
       "\n",
       "    .dataframe tbody tr th {\n",
       "        vertical-align: top;\n",
       "    }\n",
       "\n",
       "    .dataframe thead th {\n",
       "        text-align: right;\n",
       "    }\n",
       "</style>\n",
       "<table border=\"1\" class=\"dataframe\">\n",
       "  <thead>\n",
       "    <tr style=\"text-align: right;\">\n",
       "      <th></th>\n",
       "      <th>MarketID</th>\n",
       "      <th>MarketSize</th>\n",
       "      <th>LocationID</th>\n",
       "      <th>AgeOfStore</th>\n",
       "      <th>Promotion</th>\n",
       "      <th>week</th>\n",
       "      <th>SalesInThousands</th>\n",
       "    </tr>\n",
       "  </thead>\n",
       "  <tbody>\n",
       "    <tr>\n",
       "      <th>0</th>\n",
       "      <td>1</td>\n",
       "      <td>Medium</td>\n",
       "      <td>1</td>\n",
       "      <td>4</td>\n",
       "      <td>3</td>\n",
       "      <td>1</td>\n",
       "      <td>33.73</td>\n",
       "    </tr>\n",
       "    <tr>\n",
       "      <th>1</th>\n",
       "      <td>1</td>\n",
       "      <td>Medium</td>\n",
       "      <td>1</td>\n",
       "      <td>4</td>\n",
       "      <td>3</td>\n",
       "      <td>2</td>\n",
       "      <td>35.67</td>\n",
       "    </tr>\n",
       "    <tr>\n",
       "      <th>2</th>\n",
       "      <td>1</td>\n",
       "      <td>Medium</td>\n",
       "      <td>1</td>\n",
       "      <td>4</td>\n",
       "      <td>3</td>\n",
       "      <td>3</td>\n",
       "      <td>29.03</td>\n",
       "    </tr>\n",
       "    <tr>\n",
       "      <th>3</th>\n",
       "      <td>1</td>\n",
       "      <td>Medium</td>\n",
       "      <td>1</td>\n",
       "      <td>4</td>\n",
       "      <td>3</td>\n",
       "      <td>4</td>\n",
       "      <td>39.25</td>\n",
       "    </tr>\n",
       "    <tr>\n",
       "      <th>4</th>\n",
       "      <td>1</td>\n",
       "      <td>Medium</td>\n",
       "      <td>2</td>\n",
       "      <td>5</td>\n",
       "      <td>2</td>\n",
       "      <td>1</td>\n",
       "      <td>27.81</td>\n",
       "    </tr>\n",
       "  </tbody>\n",
       "</table>\n",
       "</div>"
      ],
      "text/plain": [
       "   MarketID MarketSize  LocationID  AgeOfStore  Promotion  week  \\\n",
       "0         1     Medium           1           4          3     1   \n",
       "1         1     Medium           1           4          3     2   \n",
       "2         1     Medium           1           4          3     3   \n",
       "3         1     Medium           1           4          3     4   \n",
       "4         1     Medium           2           5          2     1   \n",
       "\n",
       "   SalesInThousands  \n",
       "0             33.73  \n",
       "1             35.67  \n",
       "2             29.03  \n",
       "3             39.25  \n",
       "4             27.81  "
      ]
     },
     "execution_count": 316,
     "metadata": {},
     "output_type": "execute_result"
    }
   ],
   "source": [
    "df.head()"
   ]
  },
  {
   "cell_type": "code",
   "execution_count": 318,
   "id": "fc761144",
   "metadata": {},
   "outputs": [
    {
     "data": {
      "text/html": [
       "<div>\n",
       "<style scoped>\n",
       "    .dataframe tbody tr th:only-of-type {\n",
       "        vertical-align: middle;\n",
       "    }\n",
       "\n",
       "    .dataframe tbody tr th {\n",
       "        vertical-align: top;\n",
       "    }\n",
       "\n",
       "    .dataframe thead tr th {\n",
       "        text-align: left;\n",
       "    }\n",
       "\n",
       "    .dataframe thead tr:last-of-type th {\n",
       "        text-align: right;\n",
       "    }\n",
       "</style>\n",
       "<table border=\"1\" class=\"dataframe\">\n",
       "  <thead>\n",
       "    <tr>\n",
       "      <th></th>\n",
       "      <th colspan=\"4\" halign=\"left\">SalesInThousands</th>\n",
       "    </tr>\n",
       "    <tr>\n",
       "      <th></th>\n",
       "      <th>mean</th>\n",
       "      <th>median</th>\n",
       "      <th>min</th>\n",
       "      <th>max</th>\n",
       "    </tr>\n",
       "    <tr>\n",
       "      <th>Promotion</th>\n",
       "      <th></th>\n",
       "      <th></th>\n",
       "      <th></th>\n",
       "      <th></th>\n",
       "    </tr>\n",
       "  </thead>\n",
       "  <tbody>\n",
       "    <tr>\n",
       "      <th>1</th>\n",
       "      <td>58.099012</td>\n",
       "      <td>55.385</td>\n",
       "      <td>30.81</td>\n",
       "      <td>99.65</td>\n",
       "    </tr>\n",
       "    <tr>\n",
       "      <th>2</th>\n",
       "      <td>47.329415</td>\n",
       "      <td>45.385</td>\n",
       "      <td>17.34</td>\n",
       "      <td>88.64</td>\n",
       "    </tr>\n",
       "    <tr>\n",
       "      <th>3</th>\n",
       "      <td>55.364468</td>\n",
       "      <td>51.165</td>\n",
       "      <td>22.18</td>\n",
       "      <td>96.48</td>\n",
       "    </tr>\n",
       "  </tbody>\n",
       "</table>\n",
       "</div>"
      ],
      "text/plain": [
       "          SalesInThousands                      \n",
       "                      mean  median    min    max\n",
       "Promotion                                       \n",
       "1                58.099012  55.385  30.81  99.65\n",
       "2                47.329415  45.385  17.34  88.64\n",
       "3                55.364468  51.165  22.18  96.48"
      ]
     },
     "execution_count": 318,
     "metadata": {},
     "output_type": "execute_result"
    }
   ],
   "source": [
    "df.groupby('Promotion').agg({'SalesInThousands': [np.mean, np.median, min, max]})"
   ]
  },
  {
   "cell_type": "code",
   "execution_count": 319,
   "id": "8afa5de5",
   "metadata": {},
   "outputs": [
    {
     "data": {
      "text/plain": [
       "Text(0.5, 1.0, 'Revenue of Different Promotions')"
      ]
     },
     "execution_count": 319,
     "metadata": {},
     "output_type": "execute_result"
    },
    {
     "data": {
      "image/png": "[encoded data removed]",
      "text/plain": [
       "<Figure size 432x288 with 1 Axes>"
      ]
     },
     "metadata": {
      "needs_background": "light"
     },
     "output_type": "display_data"
    }
   ],
   "source": [
    "sns.boxplot(data=df, x='Promotion', y='SalesInThousands', palette=\"winter_d\")\n",
    "plt.title('Revenue of Different Promotions', fontsize=14)"
   ]
  },
  {
   "cell_type": "code",
   "execution_count": 320,
   "id": "aec74598",
   "metadata": {},
   "outputs": [
    {
     "data": {
      "text/plain": [
       "Text(0.5, 1.0, 'Revenue of Different Promotions by weeks')"
      ]
     },
     "execution_count": 320,
     "metadata": {},
     "output_type": "execute_result"
    },
    {
     "data": {
      "image/png": "[encoded data removed]",
      "text/plain": [
       "<Figure size 432x288 with 1 Axes>"
      ]
     },
     "metadata": {
      "needs_background": "light"
     },
     "output_type": "display_data"
    }
   ],
   "source": [
    "sns.barplot(data=df, x='Promotion', y='SalesInThousands', hue='week', color='teal')\n",
    "plt.title('Revenue of Different Promotions by weeks', fontsize=14)"
   ]
  },
  {
   "cell_type": "markdown",
   "id": "3455d5f1",
   "metadata": {},
   "source": [
    "→ У 1 и 3 рекламных групп средние продажи выше, чем у 2. При этом, они практически не варьируются от недели к неделе."
   ]
  },
  {
   "cell_type": "code",
   "execution_count": 321,
   "id": "c9edb02b",
   "metadata": {},
   "outputs": [],
   "source": [
    "percent_of_sales = df.groupby('Promotion', as_index=True) \\\n",
    ".agg({'SalesInThousands':'sum'})['SalesInThousands'].transform(lambda x: x/x.sum())"
   ]
  },
  {
   "cell_type": "code",
   "execution_count": 322,
   "id": "9f7f0c45",
   "metadata": {},
   "outputs": [
    {
     "data": {
      "text/plain": [
       "Text(0.5, 1.0, 'Distribution of Promotions')"
      ]
     },
     "execution_count": 322,
     "metadata": {},
     "output_type": "execute_result"
    },
    {
     "data": {
      "image/png": "[encoded data removed]",
      "text/plain": [
       "<Figure size 432x432 with 1 Axes>"
      ]
     },
     "metadata": {},
     "output_type": "display_data"
    }
   ],
   "source": [
    "percent_of_sales.plot.pie(labels=[1, 2, 3],\n",
    "    colors=[\"lightseagreen\", \"teal\", \"paleturquoise\"],\n",
    "    autopct=\"%.2f\",\n",
    "    fontsize=15,\n",
    "    figsize=(6, 6))\n",
    "plt.title('Distribution of Promotions', fontsize=14)"
   ]
  },
  {
   "cell_type": "markdown",
   "id": "48b83361",
   "metadata": {},
   "source": [
    "→ Как видно из графика, каждая рекламная группа занимает примерно треть от всего объема продаж. Тем не менее, рекламная группа 3 имеется наибольшую долю продаж - почти 36%."
   ]
  },
  {
   "cell_type": "markdown",
   "id": "741aa41d",
   "metadata": {},
   "source": [
    "Посмотрим на размер точек продаж в каждой из групп."
   ]
  },
  {
   "cell_type": "code",
   "execution_count": 323,
   "id": "aabe1123",
   "metadata": {},
   "outputs": [],
   "source": [
    "marketsize_by_promotion = df.groupby(['Promotion', 'MarketSize'], as_index=False).agg({'MarketID':'count'})"
   ]
  },
  {
   "cell_type": "code",
   "execution_count": 324,
   "id": "daa001dd",
   "metadata": {},
   "outputs": [
    {
     "data": {
      "text/plain": [
       "Text(0.5, 1.0, 'Number of Promotions by Market Sizes')"
      ]
     },
     "execution_count": 324,
     "metadata": {},
     "output_type": "execute_result"
    },
    {
     "data": {
      "image/png": "[encoded data removed]",
      "text/plain": [
       "<Figure size 432x288 with 1 Axes>"
      ]
     },
     "metadata": {
      "needs_background": "light"
     },
     "output_type": "display_data"
    }
   ],
   "source": [
    "sns.barplot(data=marketsize_by_promotion, x='Promotion', y='MarketID', hue='MarketSize', palette=\"Blues_d\")\n",
    "plt.legend(title='Market size')\n",
    "plt.title('Number of Promotions by Market Sizes', fontsize=14)"
   ]
  },
  {
   "cell_type": "markdown",
   "id": "a3cc814d",
   "metadata": {},
   "source": [
    "→ Рестораны среднего размера составляют наибольшую часть в каждой из рекламных групп, а рестораны малого размера - наименьшую."
   ]
  },
  {
   "cell_type": "code",
   "execution_count": 325,
   "id": "40bf919f",
   "metadata": {},
   "outputs": [
    {
     "data": {
      "text/html": [
       "<div>\n",
       "<style scoped>\n",
       "    .dataframe tbody tr th:only-of-type {\n",
       "        vertical-align: middle;\n",
       "    }\n",
       "\n",
       "    .dataframe tbody tr th {\n",
       "        vertical-align: top;\n",
       "    }\n",
       "\n",
       "    .dataframe thead tr th {\n",
       "        text-align: left;\n",
       "    }\n",
       "\n",
       "    .dataframe thead tr:last-of-type th {\n",
       "        text-align: right;\n",
       "    }\n",
       "</style>\n",
       "<table border=\"1\" class=\"dataframe\">\n",
       "  <thead>\n",
       "    <tr>\n",
       "      <th></th>\n",
       "      <th colspan=\"3\" halign=\"left\">AgeOfStore</th>\n",
       "    </tr>\n",
       "    <tr>\n",
       "      <th></th>\n",
       "      <th>mean</th>\n",
       "      <th>min</th>\n",
       "      <th>max</th>\n",
       "    </tr>\n",
       "    <tr>\n",
       "      <th>Promotion</th>\n",
       "      <th></th>\n",
       "      <th></th>\n",
       "      <th></th>\n",
       "    </tr>\n",
       "  </thead>\n",
       "  <tbody>\n",
       "    <tr>\n",
       "      <th>1</th>\n",
       "      <td>8.279070</td>\n",
       "      <td>1</td>\n",
       "      <td>27</td>\n",
       "    </tr>\n",
       "    <tr>\n",
       "      <th>2</th>\n",
       "      <td>7.978723</td>\n",
       "      <td>1</td>\n",
       "      <td>28</td>\n",
       "    </tr>\n",
       "    <tr>\n",
       "      <th>3</th>\n",
       "      <td>9.234043</td>\n",
       "      <td>1</td>\n",
       "      <td>24</td>\n",
       "    </tr>\n",
       "  </tbody>\n",
       "</table>\n",
       "</div>"
      ],
      "text/plain": [
       "          AgeOfStore        \n",
       "                mean min max\n",
       "Promotion                   \n",
       "1           8.279070   1  27\n",
       "2           7.978723   1  28\n",
       "3           9.234043   1  24"
      ]
     },
     "execution_count": 325,
     "metadata": {},
     "output_type": "execute_result"
    }
   ],
   "source": [
    "df.groupby('Promotion').agg({'AgeOfStore':[np.mean, min, max]})"
   ]
  },
  {
   "cell_type": "markdown",
   "id": "54776458",
   "metadata": {},
   "source": [
    "→ При этом, для каждой рекламной группы средний возраст ресторана примерно равен."
   ]
  },
  {
   "cell_type": "markdown",
   "id": "5cd0713b",
   "metadata": {},
   "source": [
    "Таким образом, различные показатели рекламных групп существенно не различаются между собой. Выборочные группы схожи, а, значит, результаты A/B теста продемонстрируют реальное влияние каждой из рекламных кампаний на продажи."
   ]
  },
  {
   "cell_type": "markdown",
   "id": "0419ec87",
   "metadata": {},
   "source": [
    "Проверим, являются ли статзначимыми различия между рекламными группами."
   ]
  },
  {
   "cell_type": "code",
   "execution_count": 326,
   "id": "0a622556",
   "metadata": {},
   "outputs": [
    {
     "data": {
      "text/plain": [
       "(172, 7)"
      ]
     },
     "execution_count": 326,
     "metadata": {},
     "output_type": "execute_result"
    }
   ],
   "source": [
    "promotion_1 = df.loc[df['Promotion']==1]\n",
    "promotion_1.shape"
   ]
  },
  {
   "cell_type": "code",
   "execution_count": 327,
   "id": "1df6a624",
   "metadata": {},
   "outputs": [
    {
     "data": {
      "text/plain": [
       "(188, 7)"
      ]
     },
     "execution_count": 327,
     "metadata": {},
     "output_type": "execute_result"
    }
   ],
   "source": [
    "promotion_2 = df.loc[df['Promotion']==2]\n",
    "promotion_2.shape"
   ]
  },
  {
   "cell_type": "code",
   "execution_count": 328,
   "id": "04635c52",
   "metadata": {},
   "outputs": [
    {
     "data": {
      "text/plain": [
       "(188, 7)"
      ]
     },
     "execution_count": 328,
     "metadata": {},
     "output_type": "execute_result"
    }
   ],
   "source": [
    "promotion_3 = df.loc[df['Promotion']==3]\n",
    "promotion_3.shape"
   ]
  },
  {
   "cell_type": "code",
   "execution_count": 329,
   "id": "f10bb49f",
   "metadata": {},
   "outputs": [
    {
     "data": {
      "text/plain": [
       "ShapiroResult(statistic=0.9153000712394714, pvalue=1.9773297665892642e-08)"
      ]
     },
     "execution_count": 329,
     "metadata": {},
     "output_type": "execute_result"
    }
   ],
   "source": [
    "stats.shapiro(promotion_1['SalesInThousands'])"
   ]
  },
  {
   "cell_type": "code",
   "execution_count": 356,
   "id": "cce66764",
   "metadata": {},
   "outputs": [
    {
     "data": {
      "text/plain": [
       "Text(0.5, 1.0, 'Distribution of Revenue in 1 Promotion')"
      ]
     },
     "execution_count": 356,
     "metadata": {},
     "output_type": "execute_result"
    },
    {
     "data": {
      "image/png": "[encoded data removed]",
      "text/plain": [
       "<Figure size 432x288 with 1 Axes>"
      ]
     },
     "metadata": {
      "needs_background": "light"
     },
     "output_type": "display_data"
    }
   ],
   "source": [
    "promotion_1['SalesInThousands'].hist()\n",
    "plt.title('Distribution of Revenue in 1 Promotion', fontsize=14)"
   ]
  },
  {
   "cell_type": "code",
   "execution_count": 331,
   "id": "984bedc4",
   "metadata": {},
   "outputs": [
    {
     "data": {
      "text/plain": [
       "ShapiroResult(statistic=0.9145088791847229, pvalue=5.456262108793908e-09)"
      ]
     },
     "execution_count": 331,
     "metadata": {},
     "output_type": "execute_result"
    }
   ],
   "source": [
    "stats.shapiro(promotion_2['SalesInThousands'])"
   ]
  },
  {
   "cell_type": "code",
   "execution_count": 355,
   "id": "0fe71365",
   "metadata": {},
   "outputs": [
    {
     "data": {
      "text/plain": [
       "Text(0.5, 1.0, 'Distribution of Revenue in 2 Promotion')"
      ]
     },
     "execution_count": 355,
     "metadata": {},
     "output_type": "execute_result"
    },
    {
     "data": {
      "image/png": "[encoded data removed]",
      "text/plain": [
       "<Figure size 432x288 with 1 Axes>"
      ]
     },
     "metadata": {
      "needs_background": "light"
     },
     "output_type": "display_data"
    }
   ],
   "source": [
    "promotion_2['SalesInThousands'].hist()\n",
    "plt.title('Distribution of Revenue in 2 Promotion', fontsize=14)"
   ]
  },
  {
   "cell_type": "code",
   "execution_count": 333,
   "id": "33f3c182",
   "metadata": {},
   "outputs": [
    {
     "data": {
      "text/plain": [
       "ShapiroResult(statistic=0.9207685589790344, pvalue=1.499518376135711e-08)"
      ]
     },
     "execution_count": 333,
     "metadata": {},
     "output_type": "execute_result"
    }
   ],
   "source": [
    "stats.shapiro(promotion_3['SalesInThousands'])"
   ]
  },
  {
   "cell_type": "code",
   "execution_count": 354,
   "id": "7118a21b",
   "metadata": {},
   "outputs": [
    {
     "data": {
      "text/plain": [
       "Text(0.5, 1.0, 'Distribution of Revenue in 3 Promotion')"
      ]
     },
     "execution_count": 354,
     "metadata": {},
     "output_type": "execute_result"
    },
    {
     "data": {
      "image/png": "[encoded data removed]",
      "text/plain": [
       "<Figure size 432x288 with 1 Axes>"
      ]
     },
     "metadata": {
      "needs_background": "light"
     },
     "output_type": "display_data"
    }
   ],
   "source": [
    "promotion_3['SalesInThousands'].hist()\n",
    "plt.title('Distribution of Revenue in 3 Promotion', fontsize=14)"
   ]
  },
  {
   "cell_type": "markdown",
   "id": "6f5d45f4",
   "metadata": {},
   "source": [
    "→ Для всех трех выборок отклоняем гипотезу о нормальности распределения."
   ]
  },
  {
   "cell_type": "code",
   "execution_count": 335,
   "id": "791e0fbc",
   "metadata": {},
   "outputs": [
    {
     "data": {
      "text/plain": [
       "LeveneResult(statistic=1.2696787527507418, pvalue=0.2817514565692118)"
      ]
     },
     "execution_count": 335,
     "metadata": {},
     "output_type": "execute_result"
    }
   ],
   "source": [
    "stats.levene(promotion_1['SalesInThousands'], promotion_2['SalesInThousands'], promotion_3['SalesInThousands'])"
   ]
  },
  {
   "cell_type": "markdown",
   "id": "09ac6cd2",
   "metadata": {},
   "source": [
    "→ Дисперсии внутри групп равны."
   ]
  },
  {
   "cell_type": "code",
   "execution_count": 337,
   "id": "60ce7ddc",
   "metadata": {},
   "outputs": [
    {
     "data": {
      "text/plain": [
       "F_onewayResult(statistic=21.953485793080677, pvalue=6.765849261408714e-10)"
      ]
     },
     "execution_count": 337,
     "metadata": {},
     "output_type": "execute_result"
    }
   ],
   "source": [
    "stats.f_oneway(promotion_1['SalesInThousands'], promotion_2['SalesInThousands'], promotion_3['SalesInThousands'])"
   ]
  },
  {
   "cell_type": "markdown",
   "id": "252871af",
   "metadata": {},
   "source": [
    "→ Результаты теста ANOVA показывают значительные различия между рекламными группами."
   ]
  },
  {
   "cell_type": "code",
   "execution_count": 338,
   "id": "489e5e63",
   "metadata": {},
   "outputs": [
    {
     "data": {
      "text/html": [
       "<table class=\"simpletable\">\n",
       "<caption>Multiple Comparison of Means - Tukey HSD, FWER=0.05</caption>\n",
       "<tr>\n",
       "  <th>group1</th> <th>group2</th> <th>meandiff</th>  <th>p-adj</th>  <th>lower</th>   <th>upper</th>  <th>reject</th>\n",
       "</tr>\n",
       "<tr>\n",
       "     <td>1</td>      <td>2</td>   <td>-10.7696</td>  <td>0.001</td> <td>-14.774</td> <td>-6.7652</td>  <td>True</td> \n",
       "</tr>\n",
       "<tr>\n",
       "     <td>1</td>      <td>3</td>    <td>-2.7345</td> <td>0.2447</td> <td>-6.7389</td> <td>1.2698</td>   <td>False</td>\n",
       "</tr>\n",
       "<tr>\n",
       "     <td>2</td>      <td>3</td>    <td>8.0351</td>   <td>0.001</td> <td>4.1207</td>  <td>11.9494</td>  <td>True</td> \n",
       "</tr>\n",
       "</table>"
      ],
      "text/plain": [
       "<class 'statsmodels.iolib.table.SimpleTable'>"
      ]
     },
     "execution_count": 338,
     "metadata": {},
     "output_type": "execute_result"
    }
   ],
   "source": [
    "tukey = pairwise_tukeyhsd(endog=df['SalesInThousands'], groups=df['Promotion'], alpha=0.05)\n",
    "tukey.summary()"
   ]
  },
  {
   "cell_type": "code",
   "execution_count": 351,
   "id": "215949f6",
   "metadata": {},
   "outputs": [
    {
     "data": {
      "text/plain": [
       "Text(0, 0.5, 'Sales')"
      ]
     },
     "execution_count": 351,
     "metadata": {},
     "output_type": "execute_result"
    },
    {
     "data": {
      "image/png": "[encoded data removed]",
      "text/plain": [
       "<Figure size 432x288 with 1 Axes>"
      ]
     },
     "metadata": {
      "needs_background": "light"
     },
     "output_type": "display_data"
    }
   ],
   "source": [
    "sns.pointplot(x = 'Promotion', y = 'SalesInThousands', data = df, capsize = .2)\n",
    "plt.title('Revenue of Different Promotions', fontsize=14)\n",
    "plt.xlabel('Promotion')\n",
    "plt.ylabel('Sales')"
   ]
  },
  {
   "cell_type": "markdown",
   "id": "be0f7020",
   "metadata": {},
   "source": [
    "→ Тест Тьюки показывает, что существует значительная разница между рекламной группой 2 и остальными. Между 1 и 3 рекламными группами разницы нет."
   ]
  },
  {
   "cell_type": "markdown",
   "id": "7d95c90f",
   "metadata": {},
   "source": [
    "Затем посмотрим, есть ли влияние размера точек продаж на доходы."
   ]
  },
  {
   "cell_type": "code",
   "execution_count": 340,
   "id": "30ac0154",
   "metadata": {},
   "outputs": [
    {
     "data": {
      "text/html": [
       "<div>\n",
       "<style scoped>\n",
       "    .dataframe tbody tr th:only-of-type {\n",
       "        vertical-align: middle;\n",
       "    }\n",
       "\n",
       "    .dataframe tbody tr th {\n",
       "        vertical-align: top;\n",
       "    }\n",
       "\n",
       "    .dataframe thead th {\n",
       "        text-align: right;\n",
       "    }\n",
       "</style>\n",
       "<table border=\"1\" class=\"dataframe\">\n",
       "  <thead>\n",
       "    <tr style=\"text-align: right;\">\n",
       "      <th></th>\n",
       "      <th>sum_sq</th>\n",
       "      <th>df</th>\n",
       "      <th>F</th>\n",
       "      <th>PR(&gt;F)</th>\n",
       "    </tr>\n",
       "  </thead>\n",
       "  <tbody>\n",
       "    <tr>\n",
       "      <th>MarketSize</th>\n",
       "      <td>75783.881130</td>\n",
       "      <td>2.0</td>\n",
       "      <td>266.355823</td>\n",
       "      <td>2.714481e-81</td>\n",
       "    </tr>\n",
       "    <tr>\n",
       "      <th>Promotion</th>\n",
       "      <td>49.337378</td>\n",
       "      <td>1.0</td>\n",
       "      <td>0.346810</td>\n",
       "      <td>5.561699e-01</td>\n",
       "    </tr>\n",
       "    <tr>\n",
       "      <th>Promotion:MarketSize</th>\n",
       "      <td>135.749207</td>\n",
       "      <td>2.0</td>\n",
       "      <td>0.477115</td>\n",
       "      <td>6.208318e-01</td>\n",
       "    </tr>\n",
       "    <tr>\n",
       "      <th>Residual</th>\n",
       "      <td>77105.248050</td>\n",
       "      <td>542.0</td>\n",
       "      <td>NaN</td>\n",
       "      <td>NaN</td>\n",
       "    </tr>\n",
       "  </tbody>\n",
       "</table>\n",
       "</div>"
      ],
      "text/plain": [
       "                            sum_sq     df           F        PR(>F)\n",
       "MarketSize            75783.881130    2.0  266.355823  2.714481e-81\n",
       "Promotion                49.337378    1.0    0.346810  5.561699e-01\n",
       "Promotion:MarketSize    135.749207    2.0    0.477115  6.208318e-01\n",
       "Residual              77105.248050  542.0         NaN           NaN"
      ]
     },
     "execution_count": 340,
     "metadata": {},
     "output_type": "execute_result"
    }
   ],
   "source": [
    "formula = \"SalesInThousands ~ Promotion + MarketSize + Promotion:MarketSize\"\n",
    "model = ols(formula, df).fit()\n",
    "aov_table = anova_lm(model, typ=2)\n",
    "aov_table"
   ]
  },
  {
   "cell_type": "code",
   "execution_count": 353,
   "id": "6939ea00",
   "metadata": {},
   "outputs": [
    {
     "data": {
      "text/plain": [
       "<matplotlib.legend.Legend at 0x1e11d0e41c0>"
      ]
     },
     "execution_count": 353,
     "metadata": {},
     "output_type": "execute_result"
    },
    {
     "data": {
      "image/png": "[encoded data removed]",
      "text/plain": [
       "<Figure size 432x288 with 1 Axes>"
      ]
     },
     "metadata": {
      "needs_background": "light"
     },
     "output_type": "display_data"
    }
   ],
   "source": [
    "sns.pointplot(x = 'Promotion', y = 'SalesInThousands', hue = 'MarketSize', data = df, capsize = .2)\n",
    "plt.title('Revenue by Market Size', fontsize=14)\n",
    "plt.xlabel('Promotion')\n",
    "plt.ylabel('Sales')\n",
    "plt.legend(title = 'Market size')"
   ]
  },
  {
   "cell_type": "markdown",
   "id": "c9c6f921",
   "metadata": {},
   "source": [
    "→ Размер ресторана, а также взаимодействие размера ресторана и рекламной группы значимо влияют на продажи."
   ]
  },
  {
   "cell_type": "code",
   "execution_count": 343,
   "id": "b9da3f1c",
   "metadata": {},
   "outputs": [],
   "source": [
    "small_market = df.loc[df['MarketSize']=='Small']"
   ]
  },
  {
   "cell_type": "code",
   "execution_count": 344,
   "id": "02e5ce11",
   "metadata": {},
   "outputs": [
    {
     "data": {
      "text/html": [
       "<table class=\"simpletable\">\n",
       "<caption>Multiple Comparison of Means - Tukey HSD, FWER=0.05</caption>\n",
       "<tr>\n",
       "  <th>group1</th> <th>group2</th> <th>meandiff</th> <th>p-adj</th>   <th>lower</th>   <th>upper</th>  <th>reject</th>\n",
       "</tr>\n",
       "<tr>\n",
       "     <td>1</td>      <td>2</td>    <td>-9.3519</td> <td>0.001</td> <td>-13.6829</td> <td>-5.0208</td>  <td>True</td> \n",
       "</tr>\n",
       "<tr>\n",
       "     <td>1</td>      <td>3</td>    <td>-0.6483</td>  <td>0.9</td>   <td>-4.5579</td> <td>3.2612</td>   <td>False</td>\n",
       "</tr>\n",
       "<tr>\n",
       "     <td>2</td>      <td>3</td>    <td>8.7035</td>  <td>0.001</td>   <td>4.536</td>  <td>12.8711</td>  <td>True</td> \n",
       "</tr>\n",
       "</table>"
      ],
      "text/plain": [
       "<class 'statsmodels.iolib.table.SimpleTable'>"
      ]
     },
     "execution_count": 344,
     "metadata": {},
     "output_type": "execute_result"
    }
   ],
   "source": [
    "tukey = pairwise_tukeyhsd(endog=small_market['SalesInThousands'], groups=small_market['Promotion'], alpha=0.05)\n",
    "tukey.summary()"
   ]
  },
  {
   "cell_type": "code",
   "execution_count": 345,
   "id": "6a7ea46a",
   "metadata": {},
   "outputs": [],
   "source": [
    "medium_market = df.loc[df['MarketSize']=='Medium']"
   ]
  },
  {
   "cell_type": "code",
   "execution_count": 346,
   "id": "d1169aee",
   "metadata": {},
   "outputs": [
    {
     "data": {
      "text/html": [
       "<table class=\"simpletable\">\n",
       "<caption>Multiple Comparison of Means - Tukey HSD, FWER=0.05</caption>\n",
       "<tr>\n",
       "  <th>group1</th> <th>group2</th> <th>meandiff</th>  <th>p-adj</th>   <th>lower</th>   <th>upper</th>  <th>reject</th>\n",
       "</tr>\n",
       "<tr>\n",
       "     <td>1</td>      <td>2</td>    <td>-8.5583</td>  <td>0.001</td> <td>-11.3108</td> <td>-5.8057</td>  <td>True</td> \n",
       "</tr>\n",
       "<tr>\n",
       "     <td>1</td>      <td>3</td>    <td>-2.2037</td> <td>0.1356</td>  <td>-4.9113</td> <td>0.5038</td>   <td>False</td>\n",
       "</tr>\n",
       "<tr>\n",
       "     <td>2</td>      <td>3</td>    <td>6.3545</td>   <td>0.001</td>  <td>3.7306</td>  <td>8.9785</td>   <td>True</td> \n",
       "</tr>\n",
       "</table>"
      ],
      "text/plain": [
       "<class 'statsmodels.iolib.table.SimpleTable'>"
      ]
     },
     "execution_count": 346,
     "metadata": {},
     "output_type": "execute_result"
    }
   ],
   "source": [
    "tukey = pairwise_tukeyhsd(endog=medium_market['SalesInThousands'], groups=medium_market['Promotion'], alpha=0.05)\n",
    "tukey.summary()"
   ]
  },
  {
   "cell_type": "code",
   "execution_count": 347,
   "id": "5eded2fa",
   "metadata": {},
   "outputs": [],
   "source": [
    "large_market = df.loc[df['MarketSize']=='Large']"
   ]
  },
  {
   "cell_type": "code",
   "execution_count": 348,
   "id": "0fb319de",
   "metadata": {},
   "outputs": [
    {
     "data": {
      "text/html": [
       "<table class=\"simpletable\">\n",
       "<caption>Multiple Comparison of Means - Tukey HSD, FWER=0.05</caption>\n",
       "<tr>\n",
       "  <th>group1</th> <th>group2</th> <th>meandiff</th>  <th>p-adj</th>   <th>lower</th>   <th>upper</th>  <th>reject</th>\n",
       "</tr>\n",
       "<tr>\n",
       "     <td>1</td>      <td>2</td>   <td>-14.9139</td>  <td>0.001</td> <td>-21.5284</td> <td>-8.2993</td>  <td>True</td> \n",
       "</tr>\n",
       "<tr>\n",
       "     <td>1</td>      <td>3</td>    <td>1.9681</td>  <td>0.7701</td>  <td>-5.1424</td> <td>9.0785</td>   <td>False</td>\n",
       "</tr>\n",
       "<tr>\n",
       "     <td>2</td>      <td>3</td>    <td>16.8819</td>  <td>0.001</td>  <td>9.9797</td>  <td>23.7842</td>  <td>True</td> \n",
       "</tr>\n",
       "</table>"
      ],
      "text/plain": [
       "<class 'statsmodels.iolib.table.SimpleTable'>"
      ]
     },
     "execution_count": 348,
     "metadata": {},
     "output_type": "execute_result"
    }
   ],
   "source": [
    "tukey = pairwise_tukeyhsd(endog=large_market['SalesInThousands'], groups=large_market['Promotion'], alpha=0.05)\n",
    "tukey.summary()"
   ]
  },
  {
   "cell_type": "markdown",
   "id": "2b24308d",
   "metadata": {},
   "source": [
    "→ При этом результаты теста Тьюки для точек продаж малого, среднего и большого размеров такие же, как и для общего анализа."
   ]
  },
  {
   "cell_type": "markdown",
   "id": "0d15a49b",
   "metadata": {},
   "source": [
    "Таким образом, компании следует остановиться на рекламных кампаниях 1 и 3 и продолжить их использовать в своих будущих маркетинговых программах, независимо от того, на какого размера рынок будет направлена реклама."
   ]
  },
  {
   "cell_type": "code",
   "execution_count": null,
   "id": "52fc0bc4",
   "metadata": {},
   "outputs": [],
   "source": []
  }
 ],
 "metadata": {
  "kernelspec": {
   "display_name": "Python 3 (ipykernel)",
   "language": "python",
   "name": "python3"
  },
  "language_info": {
   "codemirror_mode": {
    "name": "ipython",
    "version": 3
   },
   "file_extension": ".py",
   "mimetype": "text/x-python",
   "name": "python",
   "nbconvert_exporter": "python",
   "pygments_lexer": "ipython3",
   "version": "3.9.7"
  }
 },
 "nbformat": 4,
 "nbformat_minor": 5
}
