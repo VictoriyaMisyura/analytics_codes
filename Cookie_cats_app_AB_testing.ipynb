{
 "cells": [
  {
   "cell_type": "code",
   "execution_count": 318,
   "id": "56528c62",
   "metadata": {},
   "outputs": [],
   "source": [
    "import numpy as np\n",
    "import pandas as pd \n",
    "import seaborn as sns\n",
    "import matplotlib.pyplot as plt\n",
    "import scipy.stats as stats\n",
    "from tqdm.auto import tqdm\n",
    "\n",
    "plt.style.use('ggplot')"
   ]
  },
  {
   "cell_type": "code",
   "execution_count": 319,
   "id": "31c76808",
   "metadata": {},
   "outputs": [],
   "source": [
    "df = pd.read_csv('cookie_cats.csv')"
   ]
  },
  {
   "cell_type": "code",
   "execution_count": 320,
   "id": "3891873e",
   "metadata": {},
   "outputs": [
    {
     "name": "stdout",
     "output_type": "stream",
     "text": [
      "<class 'pandas.core.frame.DataFrame'>\n",
      "RangeIndex: 90189 entries, 0 to 90188\n",
      "Data columns (total 5 columns):\n",
      " #   Column          Non-Null Count  Dtype \n",
      "---  ------          --------------  ----- \n",
      " 0   userid          90189 non-null  int64 \n",
      " 1   version         90189 non-null  object\n",
      " 2   sum_gamerounds  90189 non-null  int64 \n",
      " 3   retention_1     90189 non-null  bool  \n",
      " 4   retention_7     90189 non-null  bool  \n",
      "dtypes: bool(2), int64(2), object(1)\n",
      "memory usage: 2.2+ MB\n"
     ]
    }
   ],
   "source": [
    "df.info()"
   ]
  },
  {
   "cell_type": "code",
   "execution_count": 322,
   "id": "bebdb7a1",
   "metadata": {},
   "outputs": [],
   "source": [
    "df[\"retention_1\"] = df[\"retention_1\"].astype(int)\n",
    "df[\"retention_7\"] = df[\"retention_7\"].astype(int)"
   ]
  },
  {
   "cell_type": "code",
   "execution_count": 323,
   "id": "7c50bef2",
   "metadata": {},
   "outputs": [],
   "source": [
    "df[\"retention_1_and_7\"] = np.where((df.retention_1 == 1) & (df.retention_7 == 1), 1,0)"
   ]
  },
  {
   "cell_type": "code",
   "execution_count": 357,
   "id": "bf3ff121",
   "metadata": {},
   "outputs": [
    {
     "data": {
      "text/html": [
       "<div>\n",
       "<style scoped>\n",
       "    .dataframe tbody tr th:only-of-type {\n",
       "        vertical-align: middle;\n",
       "    }\n",
       "\n",
       "    .dataframe tbody tr th {\n",
       "        vertical-align: top;\n",
       "    }\n",
       "\n",
       "    .dataframe thead th {\n",
       "        text-align: right;\n",
       "    }\n",
       "</style>\n",
       "<table border=\"1\" class=\"dataframe\">\n",
       "  <thead>\n",
       "    <tr style=\"text-align: right;\">\n",
       "      <th></th>\n",
       "      <th>userid</th>\n",
       "      <th>version</th>\n",
       "      <th>sum_gamerounds</th>\n",
       "      <th>retention_1</th>\n",
       "      <th>retention_7</th>\n",
       "      <th>retention_1_and_7</th>\n",
       "    </tr>\n",
       "  </thead>\n",
       "  <tbody>\n",
       "    <tr>\n",
       "      <th>0</th>\n",
       "      <td>116</td>\n",
       "      <td>gate_30</td>\n",
       "      <td>3</td>\n",
       "      <td>0</td>\n",
       "      <td>0</td>\n",
       "      <td>0</td>\n",
       "    </tr>\n",
       "    <tr>\n",
       "      <th>1</th>\n",
       "      <td>337</td>\n",
       "      <td>gate_30</td>\n",
       "      <td>38</td>\n",
       "      <td>1</td>\n",
       "      <td>0</td>\n",
       "      <td>0</td>\n",
       "    </tr>\n",
       "    <tr>\n",
       "      <th>2</th>\n",
       "      <td>377</td>\n",
       "      <td>gate_40</td>\n",
       "      <td>165</td>\n",
       "      <td>1</td>\n",
       "      <td>0</td>\n",
       "      <td>0</td>\n",
       "    </tr>\n",
       "    <tr>\n",
       "      <th>3</th>\n",
       "      <td>483</td>\n",
       "      <td>gate_40</td>\n",
       "      <td>1</td>\n",
       "      <td>0</td>\n",
       "      <td>0</td>\n",
       "      <td>0</td>\n",
       "    </tr>\n",
       "    <tr>\n",
       "      <th>4</th>\n",
       "      <td>488</td>\n",
       "      <td>gate_40</td>\n",
       "      <td>179</td>\n",
       "      <td>1</td>\n",
       "      <td>1</td>\n",
       "      <td>1</td>\n",
       "    </tr>\n",
       "  </tbody>\n",
       "</table>\n",
       "</div>"
      ],
      "text/plain": [
       "   userid  version  sum_gamerounds  retention_1  retention_7  \\\n",
       "0     116  gate_30               3            0            0   \n",
       "1     337  gate_30              38            1            0   \n",
       "2     377  gate_40             165            1            0   \n",
       "3     483  gate_40               1            0            0   \n",
       "4     488  gate_40             179            1            1   \n",
       "\n",
       "   retention_1_and_7  \n",
       "0                  0  \n",
       "1                  0  \n",
       "2                  0  \n",
       "3                  0  \n",
       "4                  1  "
      ]
     },
     "execution_count": 357,
     "metadata": {},
     "output_type": "execute_result"
    }
   ],
   "source": [
    "df.head()"
   ]
  },
  {
   "cell_type": "code",
   "execution_count": 325,
   "id": "00eaabf4",
   "metadata": {},
   "outputs": [
    {
     "data": {
      "text/plain": [
       "Text(0.5, 1.0, 'The number of users in the first 100 game rounds played')"
      ]
     },
     "execution_count": 325,
     "metadata": {},
     "output_type": "execute_result"
    },
    {
     "data": {
      "image/png": "[encoded data removed]",
      "text/plain": [
       "<Figure size 1080x360 with 2 Axes>"
      ]
     },
     "metadata": {},
     "output_type": "display_data"
    }
   ],
   "source": [
    "fig, axes = plt.subplots(1, 2, figsize = (15,5))\n",
    "count_of_users = df.groupby('sum_gamerounds')['userid'].count()\n",
    "count_of_users.plot(ax = axes[0])\n",
    "count_of_users[:100].plot(ax = axes[1])\n",
    "plt.suptitle(\"The number of users in the game rounds played\", fontsize = 20)\n",
    "axes[0].set_title(\"The number of users in all game rounds played\", fontsize = 13)\n",
    "axes[1].set_title(\"The number of users in the first 100 game rounds played\", fontsize = 13)"
   ]
  },
  {
   "cell_type": "code",
   "execution_count": 326,
   "id": "7e0bc7fd",
   "metadata": {},
   "outputs": [
    {
     "data": {
      "text/html": [
       "<div>\n",
       "<style scoped>\n",
       "    .dataframe tbody tr th:only-of-type {\n",
       "        vertical-align: middle;\n",
       "    }\n",
       "\n",
       "    .dataframe tbody tr th {\n",
       "        vertical-align: top;\n",
       "    }\n",
       "\n",
       "    .dataframe thead th {\n",
       "        text-align: right;\n",
       "    }\n",
       "</style>\n",
       "<table border=\"1\" class=\"dataframe\">\n",
       "  <thead>\n",
       "    <tr style=\"text-align: right;\">\n",
       "      <th></th>\n",
       "      <th>sum_gamerounds</th>\n",
       "      <th>userid</th>\n",
       "    </tr>\n",
       "  </thead>\n",
       "  <tbody>\n",
       "    <tr>\n",
       "      <th>0</th>\n",
       "      <td>0</td>\n",
       "      <td>3994</td>\n",
       "    </tr>\n",
       "    <tr>\n",
       "      <th>1</th>\n",
       "      <td>1</td>\n",
       "      <td>5538</td>\n",
       "    </tr>\n",
       "    <tr>\n",
       "      <th>2</th>\n",
       "      <td>2</td>\n",
       "      <td>4606</td>\n",
       "    </tr>\n",
       "    <tr>\n",
       "      <th>3</th>\n",
       "      <td>3</td>\n",
       "      <td>3958</td>\n",
       "    </tr>\n",
       "    <tr>\n",
       "      <th>4</th>\n",
       "      <td>4</td>\n",
       "      <td>3629</td>\n",
       "    </tr>\n",
       "    <tr>\n",
       "      <th>...</th>\n",
       "      <td>...</td>\n",
       "      <td>...</td>\n",
       "    </tr>\n",
       "    <tr>\n",
       "      <th>937</th>\n",
       "      <td>2294</td>\n",
       "      <td>1</td>\n",
       "    </tr>\n",
       "    <tr>\n",
       "      <th>938</th>\n",
       "      <td>2438</td>\n",
       "      <td>1</td>\n",
       "    </tr>\n",
       "    <tr>\n",
       "      <th>939</th>\n",
       "      <td>2640</td>\n",
       "      <td>1</td>\n",
       "    </tr>\n",
       "    <tr>\n",
       "      <th>940</th>\n",
       "      <td>2961</td>\n",
       "      <td>1</td>\n",
       "    </tr>\n",
       "    <tr>\n",
       "      <th>941</th>\n",
       "      <td>49854</td>\n",
       "      <td>1</td>\n",
       "    </tr>\n",
       "  </tbody>\n",
       "</table>\n",
       "<p>942 rows × 2 columns</p>\n",
       "</div>"
      ],
      "text/plain": [
       "     sum_gamerounds  userid\n",
       "0                 0    3994\n",
       "1                 1    5538\n",
       "2                 2    4606\n",
       "3                 3    3958\n",
       "4                 4    3629\n",
       "..              ...     ...\n",
       "937            2294       1\n",
       "938            2438       1\n",
       "939            2640       1\n",
       "940            2961       1\n",
       "941           49854       1\n",
       "\n",
       "[942 rows x 2 columns]"
      ]
     },
     "execution_count": 326,
     "metadata": {},
     "output_type": "execute_result"
    }
   ],
   "source": [
    "df.groupby('sum_gamerounds', as_index=False).agg({'userid':'count'})"
   ]
  },
  {
   "cell_type": "code",
   "execution_count": 327,
   "id": "db7540e2",
   "metadata": {},
   "outputs": [
    {
     "data": {
      "text/html": [
       "<div>\n",
       "<style scoped>\n",
       "    .dataframe tbody tr th:only-of-type {\n",
       "        vertical-align: middle;\n",
       "    }\n",
       "\n",
       "    .dataframe tbody tr th {\n",
       "        vertical-align: top;\n",
       "    }\n",
       "\n",
       "    .dataframe thead tr th {\n",
       "        text-align: left;\n",
       "    }\n",
       "\n",
       "    .dataframe thead tr:last-of-type th {\n",
       "        text-align: right;\n",
       "    }\n",
       "</style>\n",
       "<table border=\"1\" class=\"dataframe\">\n",
       "  <thead>\n",
       "    <tr>\n",
       "      <th></th>\n",
       "      <th colspan=\"6\" halign=\"left\">sum_gamerounds</th>\n",
       "    </tr>\n",
       "    <tr>\n",
       "      <th></th>\n",
       "      <th>count</th>\n",
       "      <th>mean</th>\n",
       "      <th>median</th>\n",
       "      <th>std</th>\n",
       "      <th>min</th>\n",
       "      <th>max</th>\n",
       "    </tr>\n",
       "    <tr>\n",
       "      <th>version</th>\n",
       "      <th></th>\n",
       "      <th></th>\n",
       "      <th></th>\n",
       "      <th></th>\n",
       "      <th></th>\n",
       "      <th></th>\n",
       "    </tr>\n",
       "  </thead>\n",
       "  <tbody>\n",
       "    <tr>\n",
       "      <th>gate_30</th>\n",
       "      <td>44700</td>\n",
       "      <td>52.456264</td>\n",
       "      <td>17.0</td>\n",
       "      <td>256.716423</td>\n",
       "      <td>0</td>\n",
       "      <td>49854</td>\n",
       "    </tr>\n",
       "    <tr>\n",
       "      <th>gate_40</th>\n",
       "      <td>45489</td>\n",
       "      <td>51.298776</td>\n",
       "      <td>16.0</td>\n",
       "      <td>103.294416</td>\n",
       "      <td>0</td>\n",
       "      <td>2640</td>\n",
       "    </tr>\n",
       "  </tbody>\n",
       "</table>\n",
       "</div>"
      ],
      "text/plain": [
       "        sum_gamerounds                                         \n",
       "                 count       mean median         std min    max\n",
       "version                                                        \n",
       "gate_30          44700  52.456264   17.0  256.716423   0  49854\n",
       "gate_40          45489  51.298776   16.0  103.294416   0   2640"
      ]
     },
     "execution_count": 327,
     "metadata": {},
     "output_type": "execute_result"
    }
   ],
   "source": [
    "df.groupby('version').agg({'sum_gamerounds': ['count', 'mean', 'median', 'std', 'min', 'max']})"
   ]
  },
  {
   "cell_type": "code",
   "execution_count": 328,
   "id": "ba79fde8",
   "metadata": {},
   "outputs": [],
   "source": [
    "gate_30 = df.loc[df['version']=='gate_30']"
   ]
  },
  {
   "cell_type": "code",
   "execution_count": 329,
   "id": "db76ebe5",
   "metadata": {},
   "outputs": [],
   "source": [
    "gate_40 = df.loc[df['version']=='gate_40']"
   ]
  },
  {
   "cell_type": "code",
   "execution_count": 330,
   "id": "ecc85a01",
   "metadata": {},
   "outputs": [
    {
     "data": {
      "text/plain": [
       "Text(0.5, 1.0, 'Distribution of Two Groups')"
      ]
     },
     "execution_count": 330,
     "metadata": {},
     "output_type": "execute_result"
    },
    {
     "data": {
      "image/png": "[encoded data removed]",
      "text/plain": [
       "<Figure size 1296x360 with 3 Axes>"
      ]
     },
     "metadata": {},
     "output_type": "display_data"
    }
   ],
   "source": [
    "fig, axes = plt.subplots(1, 3, figsize = (18,5))\n",
    "gate_30['sum_gamerounds'].hist(ax = axes[0])\n",
    "gate_40['sum_gamerounds'].hist(ax = axes[1])\n",
    "sns.boxplot(x = df.version, y = df.sum_gamerounds, ax = axes[2])\n",
    "plt.suptitle(\"Distribution of Values in Groups\", fontsize = 20)\n",
    "axes[0].set_title(\"Distribution of Gate 30 (A)\", fontsize = 13)\n",
    "axes[1].set_title(\"Distribution of Gate 40 (B)\", fontsize = 13)\n",
    "axes[2].set_title(\"Distribution of Two Groups\", fontsize = 13)"
   ]
  },
  {
   "cell_type": "code",
   "execution_count": 331,
   "id": "a689e5c6",
   "metadata": {},
   "outputs": [
    {
     "data": {
      "text/plain": [
       "0.99    493.0\n",
       "Name: sum_gamerounds, dtype: float64"
      ]
     },
     "execution_count": 331,
     "metadata": {},
     "output_type": "execute_result"
    }
   ],
   "source": [
    "df['sum_gamerounds'].quantile(q=[0.99])"
   ]
  },
  {
   "cell_type": "code",
   "execution_count": 332,
   "id": "920f0a04",
   "metadata": {},
   "outputs": [],
   "source": [
    "df_without_extreme_values = df.loc[df['sum_gamerounds'] < 493]"
   ]
  },
  {
   "cell_type": "code",
   "execution_count": 333,
   "id": "0c382ea1",
   "metadata": {},
   "outputs": [
    {
     "data": {
      "text/plain": [
       "Text(0.5, 1.0, 'Distribution of Two Groups')"
      ]
     },
     "execution_count": 333,
     "metadata": {},
     "output_type": "execute_result"
    },
    {
     "data": {
      "image/png": "[encoded data removed]",
      "text/plain": [
       "<Figure size 1296x360 with 3 Axes>"
      ]
     },
     "metadata": {},
     "output_type": "display_data"
    }
   ],
   "source": [
    "fig, axes = plt.subplots(1, 3, figsize = (18,5))\n",
    "df_without_extreme_values.loc[df_without_extreme_values['version']=='gate_30']['sum_gamerounds'].hist(ax = axes[0])\n",
    "df_without_extreme_values.loc[df_without_extreme_values['version']=='gate_40']['sum_gamerounds'].hist(ax = axes[1])\n",
    "sns.boxplot(x = df_without_extreme_values.version, y = df_without_extreme_values.sum_gamerounds, ax = axes[2])\n",
    "plt.suptitle(\"Distribution of Values in Groups Without Extreme Values\", fontsize = 20)\n",
    "axes[0].set_title(\"Distribution of Gate 30 (A)\", fontsize = 13)\n",
    "axes[1].set_title(\"Distribution of Gate 40 (B)\", fontsize = 13)\n",
    "axes[2].set_title(\"Distribution of Two Groups\", fontsize = 13)"
   ]
  },
  {
   "cell_type": "code",
   "execution_count": 334,
   "id": "c79739f7",
   "metadata": {},
   "outputs": [
    {
     "data": {
      "text/plain": [
       "ShapiroResult(statistic=0.5699042081832886, pvalue=4.484155085839415e-44)"
      ]
     },
     "execution_count": 334,
     "metadata": {},
     "output_type": "execute_result"
    }
   ],
   "source": [
    "gate_30_sample = gate_30['sum_gamerounds'].sample(1000, random_state=17)\n",
    "stats.shapiro(gate_30_sample)"
   ]
  },
  {
   "cell_type": "code",
   "execution_count": 335,
   "id": "b6d4a3b5",
   "metadata": {},
   "outputs": [
    {
     "data": {
      "text/plain": [
       "ShapiroResult(statistic=0.5420246124267578, pvalue=5.605193857299268e-45)"
      ]
     },
     "execution_count": 335,
     "metadata": {},
     "output_type": "execute_result"
    }
   ],
   "source": [
    "gate_40_sample = gate_40['sum_gamerounds'].sample(1000, random_state=17)\n",
    "stats.shapiro(gate_40_sample)"
   ]
  },
  {
   "cell_type": "code",
   "execution_count": 336,
   "id": "1686579f",
   "metadata": {},
   "outputs": [
    {
     "data": {
      "text/plain": [
       "MannwhitneyuResult(statistic=1024331250.5, pvalue=0.05020880772044255)"
      ]
     },
     "execution_count": 336,
     "metadata": {},
     "output_type": "execute_result"
    }
   ],
   "source": [
    "stats.mannwhitneyu(gate_30['sum_gamerounds'], gate_40['sum_gamerounds'])"
   ]
  },
  {
   "cell_type": "code",
   "execution_count": 337,
   "id": "8f42205d",
   "metadata": {},
   "outputs": [],
   "source": [
    "def get_bootstrap_mean(\n",
    "    data_column_1,\n",
    "    data_column_2,\n",
    "    boot_it = 1000,\n",
    "    statistic = np.mean,\n",
    "    bootstrap_conf_level = 0.95\n",
    "):\n",
    "    boot_len = max([len(data_column_1), len(data_column_2)])\n",
    "    boot_data = []\n",
    "    for i in tqdm(range(boot_it)):\n",
    "        samples_1 = data_column_1.sample(\n",
    "            boot_len, \n",
    "            replace = True\n",
    "        ).values\n",
    "        \n",
    "        samples_2 = data_column_2.sample(\n",
    "            boot_len, \n",
    "            replace = True\n",
    "        ).values\n",
    "        \n",
    "        boot_data.append(statistic(samples_1-samples_2))\n",
    "        \n",
    "    pd_boot_data = pd.DataFrame(boot_data)\n",
    "    \n",
    "    boot = [np.mean(boot_data)]\n",
    "    \n",
    "        \n",
    "    left_quant = (1 - bootstrap_conf_level)/2\n",
    "    right_quant = 1 - (1 - bootstrap_conf_level) / 2\n",
    "    ci = pd_boot_data.quantile([left_quant, right_quant])\n",
    "        \n",
    "    p_1 = stats.norm.cdf(\n",
    "        x = 0, \n",
    "        loc = np.mean(boot_data), \n",
    "        scale = np.std(boot_data)\n",
    "    )\n",
    "    p_2 = stats.norm.cdf(\n",
    "        x = 0, \n",
    "        loc = -np.mean(boot_data), \n",
    "        scale = np.std(boot_data)\n",
    "    )\n",
    "    p_value = min(p_1, p_2) * 2\n",
    "\n",
    "    \n",
    "    plt.hist(pd_boot_data[0], bins = 50)\n",
    "    \n",
    "    plt.style.use('ggplot')\n",
    "    plt.vlines(ci,ymin=0,ymax=50,linestyle='--')\n",
    "    plt.xlabel('boot_data')\n",
    "    plt.ylabel('frequency')\n",
    "    plt.title(\"Histogram of boot_data\")\n",
    "    plt.show()\n",
    "       \n",
    "    return {\"boot_data\": boot_data,\n",
    "            \"ci\": ci, \n",
    "            \"boot\": {np.mean(boot_data)},\n",
    "            \"p_value\": p_value}"
   ]
  },
  {
   "cell_type": "code",
   "execution_count": 338,
   "id": "428ead84",
   "metadata": {},
   "outputs": [
    {
     "data": {
      "application/vnd.jupyter.widget-view+json": {
       "model_id": "a5b303daae4d4408a829cebb1cc65a26",
       "version_major": 2,
       "version_minor": 0
      },
      "text/plain": [
       "  0%|          | 0/1000 [00:00<?, ?it/s]"
      ]
     },
     "metadata": {},
     "output_type": "display_data"
    },
    {
     "data": {
      "image/png": "[encoded data removed]",
      "text/plain": [
       "<Figure size 432x288 with 1 Axes>"
      ]
     },
     "metadata": {},
     "output_type": "display_data"
    }
   ],
   "source": [
    "gamerounds_bootstrap = get_bootstrap_mean(gate_30['sum_gamerounds'], gate_40['sum_gamerounds'])"
   ]
  },
  {
   "cell_type": "code",
   "execution_count": 339,
   "id": "e2e5def6",
   "metadata": {},
   "outputs": [
    {
     "data": {
      "text/plain": [
       "0.38824101874631123"
      ]
     },
     "execution_count": 339,
     "metadata": {},
     "output_type": "execute_result"
    }
   ],
   "source": [
    "gamerounds_bootstrap['p_value']"
   ]
  },
  {
   "cell_type": "code",
   "execution_count": 340,
   "id": "7eee9e0b",
   "metadata": {},
   "outputs": [
    {
     "data": {
      "text/html": [
       "<div>\n",
       "<style scoped>\n",
       "    .dataframe tbody tr th:only-of-type {\n",
       "        vertical-align: middle;\n",
       "    }\n",
       "\n",
       "    .dataframe tbody tr th {\n",
       "        vertical-align: top;\n",
       "    }\n",
       "\n",
       "    .dataframe thead th {\n",
       "        text-align: right;\n",
       "    }\n",
       "</style>\n",
       "<table border=\"1\" class=\"dataframe\">\n",
       "  <thead>\n",
       "    <tr style=\"text-align: right;\">\n",
       "      <th></th>\n",
       "      <th>0</th>\n",
       "    </tr>\n",
       "  </thead>\n",
       "  <tbody>\n",
       "    <tr>\n",
       "      <th>0.025</th>\n",
       "      <td>-1.152882</td>\n",
       "    </tr>\n",
       "    <tr>\n",
       "      <th>0.975</th>\n",
       "      <td>4.022960</td>\n",
       "    </tr>\n",
       "  </tbody>\n",
       "</table>\n",
       "</div>"
      ],
      "text/plain": [
       "              0\n",
       "0.025 -1.152882\n",
       "0.975  4.022960"
      ]
     },
     "execution_count": 340,
     "metadata": {},
     "output_type": "execute_result"
    }
   ],
   "source": [
    "gamerounds_bootstrap['ci']"
   ]
  },
  {
   "cell_type": "code",
   "execution_count": 341,
   "id": "cf15ab51",
   "metadata": {},
   "outputs": [
    {
     "data": {
      "text/plain": [
       "0.4452095044850259"
      ]
     },
     "execution_count": 341,
     "metadata": {},
     "output_type": "execute_result"
    }
   ],
   "source": [
    "first_day_retention = df['retention_1'].sum() / df['retention_1'].count()\n",
    "first_day_retention"
   ]
  },
  {
   "cell_type": "code",
   "execution_count": 342,
   "id": "6bccddb6",
   "metadata": {},
   "outputs": [
    {
     "data": {
      "text/plain": [
       "0.1860648194347426"
      ]
     },
     "execution_count": 342,
     "metadata": {},
     "output_type": "execute_result"
    }
   ],
   "source": [
    "seventh_day_retention = df['retention_7'].sum() / df['retention_7'].count()\n",
    "seventh_day_retention"
   ]
  },
  {
   "cell_type": "code",
   "execution_count": 344,
   "id": "5b2af306",
   "metadata": {},
   "outputs": [
    {
     "data": {
      "text/html": [
       "<div>\n",
       "<style scoped>\n",
       "    .dataframe tbody tr th:only-of-type {\n",
       "        vertical-align: middle;\n",
       "    }\n",
       "\n",
       "    .dataframe tbody tr th {\n",
       "        vertical-align: top;\n",
       "    }\n",
       "\n",
       "    .dataframe thead th {\n",
       "        text-align: right;\n",
       "    }\n",
       "</style>\n",
       "<table border=\"1\" class=\"dataframe\">\n",
       "  <thead>\n",
       "    <tr style=\"text-align: right;\">\n",
       "      <th></th>\n",
       "      <th>version</th>\n",
       "      <th>ratio_1</th>\n",
       "      <th>ratio_7</th>\n",
       "      <th>ratio_1_and_7</th>\n",
       "    </tr>\n",
       "  </thead>\n",
       "  <tbody>\n",
       "    <tr>\n",
       "      <th>0</th>\n",
       "      <td>gate_30</td>\n",
       "      <td>0.448188</td>\n",
       "      <td>0.190201</td>\n",
       "      <td>0.149351</td>\n",
       "    </tr>\n",
       "    <tr>\n",
       "      <th>1</th>\n",
       "      <td>gate_40</td>\n",
       "      <td>0.442283</td>\n",
       "      <td>0.182000</td>\n",
       "      <td>0.143024</td>\n",
       "    </tr>\n",
       "  </tbody>\n",
       "</table>\n",
       "</div>"
      ],
      "text/plain": [
       "   version   ratio_1   ratio_7  ratio_1_and_7\n",
       "0  gate_30  0.448188  0.190201       0.149351\n",
       "1  gate_40  0.442283  0.182000       0.143024"
      ]
     },
     "execution_count": 344,
     "metadata": {},
     "output_type": "execute_result"
    }
   ],
   "source": [
    "retention = df.groupby('version', as_index=False).agg({'retention_1': lambda x: x.sum()/x.count(),\n",
    "                                                        'retention_7': lambda x: x.sum()/x.count(),\n",
    "                                                        'retention_1_and_7': lambda x: x.sum()/x.count()}) \\\n",
    "                                                   .rename(columns={'retention_1':'ratio_1', 'retention_7':'ratio_7', \n",
    "                                                                    'retention_1_and_7':'ratio_1_and_7'})\n",
    "retention"
   ]
  },
  {
   "cell_type": "code",
   "execution_count": 364,
   "id": "d4d95a31",
   "metadata": {},
   "outputs": [
    {
     "data": {
      "text/plain": [
       "Text(0.5, 1.0, 'Retention on the First and Seventh day')"
      ]
     },
     "execution_count": 364,
     "metadata": {},
     "output_type": "execute_result"
    },
    {
     "data": {
      "image/png": "[encoded data removed]",
      "text/plain": [
       "<Figure size 1296x360 with 3 Axes>"
      ]
     },
     "metadata": {},
     "output_type": "display_data"
    }
   ],
   "source": [
    "fig, axes = plt.subplots(1, 3, figsize = (18,5))\n",
    "sns.pointplot(data=df, x='version', y='retention_1', ax = axes[0])\n",
    "sns.pointplot(data=df, x='version', y='retention_7', ax = axes[1])\n",
    "sns.pointplot(data=df, x='version', y='retention_1_and_7', ax = axes[2])\n",
    "plt.suptitle(\"Retention Ratio on Different Days\", fontsize = 20)\n",
    "axes[0].set_title(\"Retention on the First Day\", fontsize = 13)\n",
    "axes[1].set_title(\"Retention on the Seventh Day\", fontsize = 13)\n",
    "axes[2].set_title(\"Retention on the First and Seventh day\", fontsize = 13)"
   ]
  },
  {
   "cell_type": "code",
   "execution_count": 345,
   "id": "320f3cba",
   "metadata": {},
   "outputs": [
    {
     "data": {
      "text/plain": [
       "MannwhitneyuResult(statistic=1022682813.0, pvalue=0.07441128639919536)"
      ]
     },
     "execution_count": 345,
     "metadata": {},
     "output_type": "execute_result"
    }
   ],
   "source": [
    "stats.mannwhitneyu(gate_30['retention_1'], gate_40['retention_1'])"
   ]
  },
  {
   "cell_type": "code",
   "execution_count": 346,
   "id": "4e90115a",
   "metadata": {},
   "outputs": [
    {
     "data": {
      "application/vnd.jupyter.widget-view+json": {
       "model_id": "828fe4afa33f4c70a6ca6f9557b7ce39",
       "version_major": 2,
       "version_minor": 0
      },
      "text/plain": [
       "  0%|          | 0/1000 [00:00<?, ?it/s]"
      ]
     },
     "metadata": {},
     "output_type": "display_data"
    },
    {
     "data": {
      "image/png": "[encoded data removed]",
      "text/plain": [
       "<Figure size 432x288 with 1 Axes>"
      ]
     },
     "metadata": {},
     "output_type": "display_data"
    }
   ],
   "source": [
    "retention_1_bootstrap = get_bootstrap_mean(gate_30['retention_1'], gate_40['retention_1'])"
   ]
  },
  {
   "cell_type": "code",
   "execution_count": 347,
   "id": "d62e06aa",
   "metadata": {},
   "outputs": [
    {
     "data": {
      "text/plain": [
       "0.09395180170320028"
      ]
     },
     "execution_count": 347,
     "metadata": {},
     "output_type": "execute_result"
    }
   ],
   "source": [
    "retention_1_bootstrap['p_value']"
   ]
  },
  {
   "cell_type": "code",
   "execution_count": 348,
   "id": "8f3514c4",
   "metadata": {},
   "outputs": [
    {
     "data": {
      "text/html": [
       "<div>\n",
       "<style scoped>\n",
       "    .dataframe tbody tr th:only-of-type {\n",
       "        vertical-align: middle;\n",
       "    }\n",
       "\n",
       "    .dataframe tbody tr th {\n",
       "        vertical-align: top;\n",
       "    }\n",
       "\n",
       "    .dataframe thead th {\n",
       "        text-align: right;\n",
       "    }\n",
       "</style>\n",
       "<table border=\"1\" class=\"dataframe\">\n",
       "  <thead>\n",
       "    <tr style=\"text-align: right;\">\n",
       "      <th></th>\n",
       "      <th>0</th>\n",
       "    </tr>\n",
       "  </thead>\n",
       "  <tbody>\n",
       "    <tr>\n",
       "      <th>0.025</th>\n",
       "      <td>-0.001590</td>\n",
       "    </tr>\n",
       "    <tr>\n",
       "      <th>0.975</th>\n",
       "      <td>0.012025</td>\n",
       "    </tr>\n",
       "  </tbody>\n",
       "</table>\n",
       "</div>"
      ],
      "text/plain": [
       "              0\n",
       "0.025 -0.001590\n",
       "0.975  0.012025"
      ]
     },
     "execution_count": 348,
     "metadata": {},
     "output_type": "execute_result"
    }
   ],
   "source": [
    "retention_1_bootstrap['ci']"
   ]
  },
  {
   "cell_type": "code",
   "execution_count": 349,
   "id": "f6513504",
   "metadata": {},
   "outputs": [
    {
     "data": {
      "text/plain": [
       "MannwhitneyuResult(statistic=1025017239.0, pvalue=0.001554344685704005)"
      ]
     },
     "execution_count": 349,
     "metadata": {},
     "output_type": "execute_result"
    }
   ],
   "source": [
    "stats.mannwhitneyu(gate_30['retention_7'], gate_40['retention_7'])"
   ]
  },
  {
   "cell_type": "code",
   "execution_count": 350,
   "id": "1932b943",
   "metadata": {},
   "outputs": [
    {
     "data": {
      "application/vnd.jupyter.widget-view+json": {
       "model_id": "fc24390cb3a44997803a224a5befa2a2",
       "version_major": 2,
       "version_minor": 0
      },
      "text/plain": [
       "  0%|          | 0/1000 [00:00<?, ?it/s]"
      ]
     },
     "metadata": {},
     "output_type": "display_data"
    },
    {
     "data": {
      "image/png": "[encoded data removed]",
      "text/plain": [
       "<Figure size 432x288 with 1 Axes>"
      ]
     },
     "metadata": {},
     "output_type": "display_data"
    }
   ],
   "source": [
    "retention_7_bootstrap = get_bootstrap_mean(gate_30['retention_7'], gate_40['retention_7'])"
   ]
  },
  {
   "cell_type": "code",
   "execution_count": 351,
   "id": "f5d606cb",
   "metadata": {},
   "outputs": [
    {
     "data": {
      "text/plain": [
       "0.0012236343948506896"
      ]
     },
     "execution_count": 351,
     "metadata": {},
     "output_type": "execute_result"
    }
   ],
   "source": [
    "retention_7_bootstrap['p_value']"
   ]
  },
  {
   "cell_type": "code",
   "execution_count": 352,
   "id": "a8c08674",
   "metadata": {},
   "outputs": [
    {
     "data": {
      "text/html": [
       "<div>\n",
       "<style scoped>\n",
       "    .dataframe tbody tr th:only-of-type {\n",
       "        vertical-align: middle;\n",
       "    }\n",
       "\n",
       "    .dataframe tbody tr th {\n",
       "        vertical-align: top;\n",
       "    }\n",
       "\n",
       "    .dataframe thead th {\n",
       "        text-align: right;\n",
       "    }\n",
       "</style>\n",
       "<table border=\"1\" class=\"dataframe\">\n",
       "  <thead>\n",
       "    <tr style=\"text-align: right;\">\n",
       "      <th></th>\n",
       "      <th>0</th>\n",
       "    </tr>\n",
       "  </thead>\n",
       "  <tbody>\n",
       "    <tr>\n",
       "      <th>0.025</th>\n",
       "      <td>0.003298</td>\n",
       "    </tr>\n",
       "    <tr>\n",
       "      <th>0.975</th>\n",
       "      <td>0.013346</td>\n",
       "    </tr>\n",
       "  </tbody>\n",
       "</table>\n",
       "</div>"
      ],
      "text/plain": [
       "              0\n",
       "0.025  0.003298\n",
       "0.975  0.013346"
      ]
     },
     "execution_count": 352,
     "metadata": {},
     "output_type": "execute_result"
    }
   ],
   "source": [
    "retention_7_bootstrap['ci']"
   ]
  },
  {
   "cell_type": "code",
   "execution_count": 353,
   "id": "f5e98e32",
   "metadata": {},
   "outputs": [
    {
     "data": {
      "text/plain": [
       "MannwhitneyuResult(statistic=1023112332.0, pvalue=0.0071564568248493575)"
      ]
     },
     "execution_count": 353,
     "metadata": {},
     "output_type": "execute_result"
    }
   ],
   "source": [
    "stats.mannwhitneyu(gate_30['retention_1_and_7'], gate_40['retention_1_and_7'])"
   ]
  },
  {
   "cell_type": "code",
   "execution_count": 354,
   "id": "dbf1bea0",
   "metadata": {},
   "outputs": [
    {
     "data": {
      "application/vnd.jupyter.widget-view+json": {
       "model_id": "8f154a6bd15946eda697165ab1881c8c",
       "version_major": 2,
       "version_minor": 0
      },
      "text/plain": [
       "  0%|          | 0/1000 [00:00<?, ?it/s]"
      ]
     },
     "metadata": {},
     "output_type": "display_data"
    },
    {
     "data": {
      "image/png": "[encoded data removed]",
      "text/plain": [
       "<Figure size 432x288 with 1 Axes>"
      ]
     },
     "metadata": {},
     "output_type": "display_data"
    }
   ],
   "source": [
    "retention_1_and_7_bootstrap = get_bootstrap_mean(gate_30['retention_1_and_7'], gate_40['retention_1_and_7'])"
   ]
  },
  {
   "cell_type": "code",
   "execution_count": 355,
   "id": "de823324",
   "metadata": {},
   "outputs": [
    {
     "data": {
      "text/plain": [
       "0.008955862854397782"
      ]
     },
     "execution_count": 355,
     "metadata": {},
     "output_type": "execute_result"
    }
   ],
   "source": [
    "retention_1_and_7_bootstrap['p_value']"
   ]
  },
  {
   "cell_type": "code",
   "execution_count": 356,
   "id": "21940bc6",
   "metadata": {},
   "outputs": [
    {
     "data": {
      "text/html": [
       "<div>\n",
       "<style scoped>\n",
       "    .dataframe tbody tr th:only-of-type {\n",
       "        vertical-align: middle;\n",
       "    }\n",
       "\n",
       "    .dataframe tbody tr th {\n",
       "        vertical-align: top;\n",
       "    }\n",
       "\n",
       "    .dataframe thead th {\n",
       "        text-align: right;\n",
       "    }\n",
       "</style>\n",
       "<table border=\"1\" class=\"dataframe\">\n",
       "  <thead>\n",
       "    <tr style=\"text-align: right;\">\n",
       "      <th></th>\n",
       "      <th>0</th>\n",
       "    </tr>\n",
       "  </thead>\n",
       "  <tbody>\n",
       "    <tr>\n",
       "      <th>0.025</th>\n",
       "      <td>0.001780</td>\n",
       "    </tr>\n",
       "    <tr>\n",
       "      <th>0.975</th>\n",
       "      <td>0.010794</td>\n",
       "    </tr>\n",
       "  </tbody>\n",
       "</table>\n",
       "</div>"
      ],
      "text/plain": [
       "              0\n",
       "0.025  0.001780\n",
       "0.975  0.010794"
      ]
     },
     "execution_count": 356,
     "metadata": {},
     "output_type": "execute_result"
    }
   ],
   "source": [
    "retention_1_and_7_bootstrap['ci']"
   ]
  },
  {
   "cell_type": "code",
   "execution_count": null,
   "id": "48399a62",
   "metadata": {},
   "outputs": [],
   "source": []
  }
 ],
 "metadata": {
  "kernelspec": {
   "display_name": "Python 3 (ipykernel)",
   "language": "python",
   "name": "python3"
  },
  "language_info": {
   "codemirror_mode": {
    "name": "ipython",
    "version": 3
   },
   "file_extension": ".py",
   "mimetype": "text/x-python",
   "name": "python",
   "nbconvert_exporter": "python",
   "pygments_lexer": "ipython3",
   "version": "3.9.7"
  }
 },
 "nbformat": 4,
 "nbformat_minor": 5
}
